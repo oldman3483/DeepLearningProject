{
 "cells": [
  {
   "cell_type": "code",
   "execution_count": 28,
   "metadata": {
    "colab": {
     "base_uri": "https://localhost:8080/",
     "height": 76
    },
    "colab_type": "code",
    "executionInfo": {
     "elapsed": 1321,
     "status": "ok",
     "timestamp": 1586851975766,
     "user": {
      "displayName": "李政軒",
      "photoUrl": "",
      "userId": "08086314053421830905"
     },
     "user_tz": -480
    },
    "id": "Hx0iAwSpVQ7n",
    "outputId": "8f48b5ef-1e1c-4fc6-c62d-e9efcab35cae"
   },
   "outputs": [
    {
     "name": "stdout",
     "output_type": "stream",
     "text": [
      "env: KERAS_BACKEND=tensorflow\n"
     ]
    }
   ],
   "source": [
    "%env KERAS_BACKEND=tensorflow\n",
    "%matplotlib inline"
   ]
  },
  {
   "cell_type": "code",
   "execution_count": 29,
   "metadata": {
    "colab": {
     "base_uri": "https://localhost:8080/",
     "height": 76
    },
    "colab_type": "code",
    "executionInfo": {
     "elapsed": 1259,
     "status": "ok",
     "timestamp": 1586851975768,
     "user": {
      "displayName": "李政軒",
      "photoUrl": "",
      "userId": "08086314053421830905"
     },
     "user_tz": -480
    },
    "id": "Wotd4OFuVYzX",
    "outputId": "2602a104-3b69-4b33-944e-fd8ced9b5e2e"
   },
   "outputs": [
    {
     "name": "stdout",
     "output_type": "stream",
     "text": [
      "Drive already mounted at /content/drive; to attempt to forcibly remount, call drive.mount(\"/content/drive\", force_remount=True).\n"
     ]
    }
   ],
   "source": [
    "from google.colab import drive\n",
    "drive.mount('/content/drive')"
   ]
  },
  {
   "cell_type": "code",
   "execution_count": 98,
   "metadata": {
    "colab": {
     "base_uri": "https://localhost:8080/",
     "height": 364
    },
    "colab_type": "code",
    "executionInfo": {
     "elapsed": 739,
     "status": "error",
     "timestamp": 1586854179196,
     "user": {
      "displayName": "李政軒",
      "photoUrl": "",
      "userId": "08086314053421830905"
     },
     "user_tz": -480
    },
    "id": "euOpHZ2EVgJn",
    "outputId": "b6ffd244-d099-46d4-a507-14e2f21215be"
   },
   "outputs": [
    {
     "ename": "ModuleNotFoundError",
     "evalue": "ignored",
     "output_type": "error",
     "traceback": [
      "\u001b[0;31m---------------------------------------------------------------------------\u001b[0m",
      "\u001b[0;31mModuleNotFoundError\u001b[0m                       Traceback (most recent call last)",
      "\u001b[0;32m<ipython-input-98-8ffcbe995982>\u001b[0m in \u001b[0;36m<module>\u001b[0;34m()\u001b[0m\n\u001b[1;32m     19\u001b[0m \u001b[0;32mfrom\u001b[0m \u001b[0mtensorflow\u001b[0m\u001b[0;34m.\u001b[0m\u001b[0mpython\u001b[0m\u001b[0;34m.\u001b[0m\u001b[0mkeras\u001b[0m\u001b[0;34m.\u001b[0m\u001b[0moptimizers\u001b[0m \u001b[0;32mimport\u001b[0m \u001b[0mSGD\u001b[0m\u001b[0;34m,\u001b[0m \u001b[0mAdam\u001b[0m \u001b[0;34m,\u001b[0m\u001b[0mRMSprop\u001b[0m\u001b[0;34m\u001b[0m\u001b[0;34m\u001b[0m\u001b[0m\n\u001b[1;32m     20\u001b[0m \u001b[0;32mfrom\u001b[0m \u001b[0mtensorflow\u001b[0m\u001b[0;34m.\u001b[0m\u001b[0mpython\u001b[0m\u001b[0;34m.\u001b[0m\u001b[0mkeras\u001b[0m\u001b[0;34m.\u001b[0m\u001b[0mmodels\u001b[0m \u001b[0;32mimport\u001b[0m \u001b[0mSequential\u001b[0m\u001b[0;34m,\u001b[0m \u001b[0mModel\u001b[0m\u001b[0;34m,\u001b[0m \u001b[0mload_model\u001b[0m\u001b[0;34m\u001b[0m\u001b[0;34m\u001b[0m\u001b[0m\n\u001b[0;32m---> 21\u001b[0;31m \u001b[0;32mfrom\u001b[0m \u001b[0mtf\u001b[0m\u001b[0;34m.\u001b[0m\u001b[0mkeras\u001b[0m\u001b[0;34m.\u001b[0m\u001b[0moptimizers\u001b[0m \u001b[0;32mimport\u001b[0m \u001b[0mSGD\u001b[0m\u001b[0;34m,\u001b[0m \u001b[0mAdam\u001b[0m \u001b[0;34m,\u001b[0m\u001b[0mRMSprop\u001b[0m\u001b[0;34m\u001b[0m\u001b[0;34m\u001b[0m\u001b[0m\n\u001b[0m",
      "\u001b[0;31mModuleNotFoundError\u001b[0m: No module named 'tf'",
      "",
      "\u001b[0;31m---------------------------------------------------------------------------\u001b[0;32m\nNOTE: If your import is failing due to a missing package, you can\nmanually install dependencies using either !pip or !apt.\n\nTo view examples of installing some common dependencies, click the\n\"Open Examples\" button below.\n\u001b[0;31m---------------------------------------------------------------------------\u001b[0m\n"
     ]
    }
   ],
   "source": [
    "import os\n",
    "import numpy as np\n",
    "import pandas as pd\n",
    "from matplotlib import pyplot as plt\n",
    "\n",
    "\n",
    "from sklearn import preprocessing\n",
    "from sklearn.utils import shuffle\n",
    "from sklearn.metrics import confusion_matrix\n",
    "from sklearn.metrics import classification_report\n",
    "from sklearn.metrics import precision_recall_curve\n",
    "from sklearn.model_selection import train_test_split\n",
    "\n",
    "\n",
    "from tensorflow.python.keras import layers, Sequential\n",
    "from tensorflow.python.keras.layers import LSTM, Dense\n",
    "from tensorflow.python.keras import regularizers,callbacks,initializers\n",
    "from tensorflow.python.keras import backend as K\n",
    "from tensorflow.python.keras.optimizers import SGD, Adam ,RMSprop\n",
    "from tensorflow.python.keras.models import Sequential, Model, load_model\n"
   ]
  },
  {
   "cell_type": "code",
   "execution_count": 0,
   "metadata": {
    "colab": {},
    "colab_type": "code",
    "id": "B3jyAJEKWIvH"
   },
   "outputs": [],
   "source": [
    "path='/content/drive/My Drive/Colab Notebooks/TueLearning/'\n",
    "df = pd.read_excel(os.path.join(path,'copy_NCKU_Hypotension.xls'))"
   ]
  },
  {
   "cell_type": "code",
   "execution_count": 32,
   "metadata": {
    "colab": {
     "base_uri": "https://localhost:8080/",
     "height": 180
    },
    "colab_type": "code",
    "executionInfo": {
     "elapsed": 1755,
     "status": "ok",
     "timestamp": 1586851976342,
     "user": {
      "displayName": "李政軒",
      "photoUrl": "",
      "userId": "08086314053421830905"
     },
     "user_tz": -480
    },
    "id": "sHGzOIddWeaS",
    "outputId": "58cb431f-8e4b-4273-e45b-f9fdb8def4bd"
   },
   "outputs": [
    {
     "data": {
      "text/plain": [
       "array([[ 62., 105.,  68., ..., 100.,   4.,   1.],\n",
       "       [ 49.,  98.,  64., ..., 100.,   4.,   1.],\n",
       "       [ 49., 126.,  82., ..., 100.,   4.,   0.],\n",
       "       ...,\n",
       "       [ 62., 144.,  83., ..., 100.,   2.,   0.],\n",
       "       [ 50., 134.,  69., ..., 100.,   0.,   0.],\n",
       "       [ 44., 158.,  74., ..., 100.,   0.,   0.]])"
      ]
     },
     "execution_count": 32,
     "metadata": {
      "tags": []
     },
     "output_type": "execute_result"
    }
   ],
   "source": [
    "df_train = shuffle(np.array(df))\n",
    "df_train"
   ]
  },
  {
   "cell_type": "code",
   "execution_count": 0,
   "metadata": {
    "colab": {},
    "colab_type": "code",
    "id": "epn8HdV8Womp"
   },
   "outputs": [],
   "source": [
    "x = df_train[:, :14]\n",
    "y = df_train[:, 14]\n",
    "\n",
    "x = preprocessing.scale(x)"
   ]
  },
  {
   "cell_type": "code",
   "execution_count": 34,
   "metadata": {
    "colab": {
     "base_uri": "https://localhost:8080/",
     "height": 76
    },
    "colab_type": "code",
    "executionInfo": {
     "elapsed": 1708,
     "status": "ok",
     "timestamp": 1586851976345,
     "user": {
      "displayName": "李政軒",
      "photoUrl": "",
      "userId": "08086314053421830905"
     },
     "user_tz": -480
    },
    "id": "F4l73A-EW_as",
    "outputId": "a0a4c6e6-c6d7-4ef5-8fb4-695f8e6e630e"
   },
   "outputs": [
    {
     "data": {
      "text/plain": [
       "(10656,)"
      ]
     },
     "execution_count": 34,
     "metadata": {
      "tags": []
     },
     "output_type": "execute_result"
    }
   ],
   "source": [
    "x_train, x_test, y_train, y_test = train_test_split(x, y, test_size=0.2)\n",
    "y_train.shape"
   ]
  },
  {
   "cell_type": "code",
   "execution_count": 35,
   "metadata": {
    "colab": {
     "base_uri": "https://localhost:8080/",
     "height": 321
    },
    "colab_type": "code",
    "executionInfo": {
     "elapsed": 1684,
     "status": "ok",
     "timestamp": 1586851976346,
     "user": {
      "displayName": "李政軒",
      "photoUrl": "",
      "userId": "08086314053421830905"
     },
     "user_tz": -480
    },
    "id": "3BsnWcKCjjQf",
    "outputId": "e0aa4bf2-8bba-4cc2-a0d1-fa6597aab16f"
   },
   "outputs": [
    {
     "name": "stdout",
     "output_type": "stream",
     "text": [
      "       0.0  1.0\n",
      "0        0    1\n",
      "1        1    0\n",
      "2        0    1\n",
      "3        1    0\n",
      "4        0    1\n",
      "...    ...  ...\n",
      "10651    0    1\n",
      "10652    1    0\n",
      "10653    1    0\n",
      "10654    1    0\n",
      "10655    0    1\n",
      "\n",
      "[10656 rows x 2 columns]\n"
     ]
    },
    {
     "data": {
      "text/plain": [
       "(10656, 2)"
      ]
     },
     "execution_count": 35,
     "metadata": {
      "tags": []
     },
     "output_type": "execute_result"
    }
   ],
   "source": [
    "y_train_onehot = pd.get_dummies(y_train)\n",
    "y_test_onehot = pd.get_dummies(y_test)\n",
    "print(y_train_onehot)\n",
    "y_train_onehot.shape"
   ]
  },
  {
   "cell_type": "code",
   "execution_count": 36,
   "metadata": {
    "colab": {
     "base_uri": "https://localhost:8080/",
     "height": 145
    },
    "colab_type": "code",
    "executionInfo": {
     "elapsed": 1659,
     "status": "ok",
     "timestamp": 1586851976348,
     "user": {
      "displayName": "李政軒",
      "photoUrl": "",
      "userId": "08086314053421830905"
     },
     "user_tz": -480
    },
    "id": "PRcnGjVKZ42j",
    "outputId": "c309b11b-c10d-4d22-d2fd-5528a27ff62a"
   },
   "outputs": [
    {
     "name": "stdout",
     "output_type": "stream",
     "text": [
      " x_train_reshape\n",
      " (10656, 14, 1) \n",
      "\n",
      " x_test_reshape\n",
      " (2664, 14, 1)\n"
     ]
    }
   ],
   "source": [
    "x_train_reshape = np.reshape(x_train, (len(x_train), len(x_train[0]),1))\n",
    "x_test_reshape = np.reshape(x_test, (len(x_test), len(x_test[0]),1))\n",
    "print(\" x_train_reshape\\n\",x_train_reshape.shape,\"\\n\")\n",
    "print(\" x_test_reshape\\n\",x_test_reshape.shape)\n"
   ]
  },
  {
   "cell_type": "code",
   "execution_count": 86,
   "metadata": {
    "colab": {
     "base_uri": "https://localhost:8080/",
     "height": 55
    },
    "colab_type": "code",
    "executionInfo": {
     "elapsed": 640,
     "status": "ok",
     "timestamp": 1586853736812,
     "user": {
      "displayName": "李政軒",
      "photoUrl": "",
      "userId": "08086314053421830905"
     },
     "user_tz": -480
    },
    "id": "kBRHJu1DaEWA",
    "outputId": "bbfe29d9-2da6-4d14-e7e5-c12375fb3e11"
   },
   "outputs": [
    {
     "name": "stdout",
     "output_type": "stream",
     "text": [
      "(14, 1)\n"
     ]
    }
   ],
   "source": [
    "num_classes = 2\n",
    "epoch =30\n",
    "learning_rate = 1e-3\n",
    "hidden_units = 200 \n",
    "batch_size = 32\n",
    "input_shape = x_train_reshape.shape[1:]\n",
    "optim = Adam(\n",
    "    lr = learning_rate)\n",
    "print(input_shape)"
   ]
  },
  {
   "cell_type": "code",
   "execution_count": 0,
   "metadata": {
    "colab": {},
    "colab_type": "code",
    "id": "8mEENKZRcB4c"
   },
   "outputs": [],
   "source": [
    "##LSTM model\n",
    "\n",
    "def LSTM_model():\n",
    "  model = Sequential(name='LSTM')\n",
    "  model.add(LSTM(hidden_units,\n",
    "                 input_shape = input_shape))\n",
    "  model.add(Dense(num_classes))\n",
    "  model.add(layers.Activation('softmax'))\n",
    "\n",
    "  return model\n",
    "\n"
   ]
  },
  {
   "cell_type": "code",
   "execution_count": 119,
   "metadata": {
    "colab": {
     "base_uri": "https://localhost:8080/",
     "height": 568
    },
    "colab_type": "code",
    "executionInfo": {
     "elapsed": 857,
     "status": "ok",
     "timestamp": 1586855535632,
     "user": {
      "displayName": "李政軒",
      "photoUrl": "",
      "userId": "08086314053421830905"
     },
     "user_tz": -480
    },
    "id": "wx5D24hOcTXs",
    "outputId": "3dbf1f3c-37cc-4f07-8dbf-0776b3cf8afb"
   },
   "outputs": [
    {
     "name": "stdout",
     "output_type": "stream",
     "text": [
      "-----------------------\n",
      "\n",
      "超參數設置:\n",
      "\n",
      " 種類: 2 種 \n",
      " 學習率: 0.001 \n",
      " 輸入形狀: (14, 1) \n",
      " batch_size: 32 \n",
      " Epoch: 30 \n",
      "\n",
      "\n",
      "optimizer:  <tensorflow.python.keras.optimizers.Adam object at 0x7f2ca404fa20>\n",
      "\n",
      "-----------------------\n",
      "\n",
      "Model: \"sequential_17\"\n",
      "_________________________________________________________________\n",
      "Layer (type)                 Output Shape              Param #   \n",
      "=================================================================\n",
      "lstm_23 (LSTM)               (None, 200)               161600    \n",
      "_________________________________________________________________\n",
      "dense_44 (Dense)             (None, 2)                 402       \n",
      "_________________________________________________________________\n",
      "activation_18 (Activation)   (None, 2)                 0         \n",
      "=================================================================\n",
      "Total params: 162,002\n",
      "Trainable params: 162,002\n",
      "Non-trainable params: 0\n",
      "_________________________________________________________________\n"
     ]
    }
   ],
   "source": [
    "\n",
    "LSTM_layer = [LSTM(hidden_units,input_shape = input_shape),\n",
    "              Dense(num_classes),\n",
    "              layers.Activation('softmax'),\n",
    "              ]\n",
    "GRU_layer = [layers.GRU(hidden_units,\n",
    "                        input_shape = input_shape),\n",
    "                Dense(num_classes),\n",
    "                layers.Activation('softmax')\n",
    "            ]\n",
    "\n",
    "model = Sequential(LSTM_layer)\n",
    "\n",
    "model.compile(loss = 'binary_crossentropy',\n",
    "              optimizer = 'adam',\n",
    "              metrics = ['accuracy'])\n",
    "print(\"-----------------------\\n\\n超參數設置:\\n\\n\",\"種類:\",\n",
    "      num_classes,\"種\",\"\\n 學習率:\",learning_rate,\"\\n 輸入形狀:\",\n",
    "      input_shape,\"\\n batch_size:\",batch_size,\"\\n Epoch:\",epoch,\"\\n\\n\")\n",
    "print('optimizer: ',str(optim))\n",
    "print(\"\\n-----------------------\\n\")\n",
    "model.summary()"
   ]
  },
  {
   "cell_type": "code",
   "execution_count": 103,
   "metadata": {
    "colab": {
     "base_uri": "https://localhost:8080/",
     "height": 1000
    },
    "colab_type": "code",
    "executionInfo": {
     "elapsed": 37107,
     "status": "ok",
     "timestamp": 1586854816921,
     "user": {
      "displayName": "李政軒",
      "photoUrl": "",
      "userId": "08086314053421830905"
     },
     "user_tz": -480
    },
    "id": "skrcoGaHdru-",
    "outputId": "8e017404-f77a-46bc-e6af-d8565ea18393"
   },
   "outputs": [
    {
     "name": "stdout",
     "output_type": "stream",
     "text": [
      "Epoch 1/30\n",
      "300/300 [==============================] - 1s 5ms/step - loss: 0.5791 - accuracy: 0.7010 - val_loss: 0.5282 - val_accuracy: 0.7439\n",
      "Epoch 2/30\n",
      "300/300 [==============================] - 1s 4ms/step - loss: 0.5496 - accuracy: 0.7263 - val_loss: 0.5313 - val_accuracy: 0.7420\n",
      "Epoch 3/30\n",
      "300/300 [==============================] - 1s 4ms/step - loss: 0.5399 - accuracy: 0.7341 - val_loss: 0.5312 - val_accuracy: 0.7458\n",
      "Epoch 4/30\n",
      "300/300 [==============================] - 1s 4ms/step - loss: 0.5324 - accuracy: 0.7403 - val_loss: 0.5011 - val_accuracy: 0.7749\n",
      "Epoch 5/30\n",
      "300/300 [==============================] - 1s 4ms/step - loss: 0.5165 - accuracy: 0.7502 - val_loss: 0.4969 - val_accuracy: 0.7627\n",
      "Epoch 6/30\n",
      "300/300 [==============================] - 1s 4ms/step - loss: 0.4923 - accuracy: 0.7656 - val_loss: 0.4653 - val_accuracy: 0.7917\n",
      "Epoch 7/30\n",
      "300/300 [==============================] - 1s 4ms/step - loss: 0.4714 - accuracy: 0.7808 - val_loss: 0.4222 - val_accuracy: 0.8114\n",
      "Epoch 8/30\n",
      "300/300 [==============================] - 1s 4ms/step - loss: 0.4587 - accuracy: 0.7896 - val_loss: 0.4060 - val_accuracy: 0.8368\n",
      "Epoch 9/30\n",
      "300/300 [==============================] - 1s 4ms/step - loss: 0.4520 - accuracy: 0.7924 - val_loss: 0.4452 - val_accuracy: 0.7964\n",
      "Epoch 10/30\n",
      "300/300 [==============================] - 1s 4ms/step - loss: 0.4449 - accuracy: 0.7994 - val_loss: 0.3909 - val_accuracy: 0.8452\n",
      "Epoch 11/30\n",
      "300/300 [==============================] - 1s 4ms/step - loss: 0.4372 - accuracy: 0.8040 - val_loss: 0.3935 - val_accuracy: 0.8405\n",
      "Epoch 12/30\n",
      "300/300 [==============================] - 1s 4ms/step - loss: 0.4326 - accuracy: 0.8069 - val_loss: 0.3903 - val_accuracy: 0.8452\n",
      "Epoch 13/30\n",
      "300/300 [==============================] - 1s 4ms/step - loss: 0.4347 - accuracy: 0.8039 - val_loss: 0.4036 - val_accuracy: 0.8330\n",
      "Epoch 14/30\n",
      "300/300 [==============================] - 1s 4ms/step - loss: 0.4302 - accuracy: 0.8093 - val_loss: 0.3857 - val_accuracy: 0.8443\n",
      "Epoch 15/30\n",
      "300/300 [==============================] - 1s 4ms/step - loss: 0.4246 - accuracy: 0.8119 - val_loss: 0.3861 - val_accuracy: 0.8386\n",
      "Epoch 16/30\n",
      "300/300 [==============================] - 1s 4ms/step - loss: 0.4242 - accuracy: 0.8116 - val_loss: 0.4002 - val_accuracy: 0.8283\n",
      "Epoch 17/30\n",
      "300/300 [==============================] - 1s 4ms/step - loss: 0.4224 - accuracy: 0.8113 - val_loss: 0.3769 - val_accuracy: 0.8424\n",
      "Epoch 18/30\n",
      "300/300 [==============================] - 1s 4ms/step - loss: 0.4203 - accuracy: 0.8144 - val_loss: 0.3880 - val_accuracy: 0.8377\n",
      "Epoch 19/30\n",
      "300/300 [==============================] - 1s 4ms/step - loss: 0.4160 - accuracy: 0.8162 - val_loss: 0.3862 - val_accuracy: 0.8508\n",
      "Epoch 20/30\n",
      "300/300 [==============================] - 1s 4ms/step - loss: 0.4139 - accuracy: 0.8164 - val_loss: 0.3823 - val_accuracy: 0.8311\n",
      "Epoch 21/30\n",
      "300/300 [==============================] - 1s 4ms/step - loss: 0.4131 - accuracy: 0.8140 - val_loss: 0.3824 - val_accuracy: 0.8471\n",
      "Epoch 22/30\n",
      "300/300 [==============================] - 1s 4ms/step - loss: 0.4098 - accuracy: 0.8156 - val_loss: 0.3868 - val_accuracy: 0.8283\n",
      "Epoch 23/30\n",
      "300/300 [==============================] - 1s 4ms/step - loss: 0.4110 - accuracy: 0.8181 - val_loss: 0.3798 - val_accuracy: 0.8452\n",
      "Epoch 24/30\n",
      "300/300 [==============================] - 1s 4ms/step - loss: 0.4051 - accuracy: 0.8210 - val_loss: 0.3782 - val_accuracy: 0.8471\n",
      "Epoch 25/30\n",
      "300/300 [==============================] - 1s 4ms/step - loss: 0.4043 - accuracy: 0.8223 - val_loss: 0.3695 - val_accuracy: 0.8433\n",
      "Epoch 26/30\n",
      "300/300 [==============================] - 1s 4ms/step - loss: 0.3977 - accuracy: 0.8238 - val_loss: 0.3794 - val_accuracy: 0.8415\n",
      "Epoch 27/30\n",
      "300/300 [==============================] - 1s 4ms/step - loss: 0.3962 - accuracy: 0.8257 - val_loss: 0.3749 - val_accuracy: 0.8508\n",
      "Epoch 28/30\n",
      "300/300 [==============================] - 1s 4ms/step - loss: 0.3963 - accuracy: 0.8275 - val_loss: 0.3927 - val_accuracy: 0.8311\n",
      "Epoch 29/30\n",
      "300/300 [==============================] - 1s 4ms/step - loss: 0.3927 - accuracy: 0.8241 - val_loss: 0.3788 - val_accuracy: 0.8433\n",
      "Epoch 30/30\n",
      "300/300 [==============================] - 1s 4ms/step - loss: 0.3875 - accuracy: 0.8299 - val_loss: 0.3683 - val_accuracy: 0.8537\n"
     ]
    }
   ],
   "source": [
    "history = model.fit(x_train_reshape, y_train_onehot,\n",
    "                    epochs = epoch,\n",
    "                    batch_size = batch_size,\n",
    "                    validation_split = 0.1,\n",
    "                    )"
   ]
  },
  {
   "cell_type": "code",
   "execution_count": 104,
   "metadata": {
    "colab": {
     "base_uri": "https://localhost:8080/",
     "height": 145
    },
    "colab_type": "code",
    "executionInfo": {
     "elapsed": 1301,
     "status": "ok",
     "timestamp": 1586854823369,
     "user": {
      "displayName": "李政軒",
      "photoUrl": "",
      "userId": "08086314053421830905"
     },
     "user_tz": -480
    },
    "id": "pLwGRHDIi6-d",
    "outputId": "ffb9a338-e1bf-4068-ea3c-1d742759e04c"
   },
   "outputs": [
    {
     "name": "stdout",
     "output_type": "stream",
     "text": [
      "在 2664 的數據量上做測試\n",
      "\n",
      "混淆矩陣\n",
      " [[1083  251]\n",
      " [ 242 1088]]\n"
     ]
    }
   ],
   "source": [
    "# 用模型對測試級做分類\n",
    "pred =  model.predict(x_test_reshape)\n",
    "\n",
    "# 將分類轉回原格式\n",
    "y_pred = np.argmax(pred,axis=1)\n",
    "\n",
    "# \n",
    "tn, fp, fn, tp = confusion_matrix(y_test,y_pred).ravel()\n",
    "\n",
    "print(\"在\",len(y_test),\"的數據量上做測試\\n\")\n",
    "print(\"混淆矩陣\\n\",confusion_matrix(y_test, y_pred))"
   ]
  },
  {
   "cell_type": "code",
   "execution_count": 105,
   "metadata": {
    "colab": {
     "base_uri": "https://localhost:8080/",
     "height": 76
    },
    "colab_type": "code",
    "executionInfo": {
     "elapsed": 885,
     "status": "ok",
     "timestamp": 1586854827366,
     "user": {
      "displayName": "李政軒",
      "photoUrl": "",
      "userId": "08086314053421830905"
     },
     "user_tz": -480
    },
    "id": "0_yQpR6Wjjps",
    "outputId": "b4e05029-77ee-494f-acaa-568d479427da"
   },
   "outputs": [
    {
     "data": {
      "text/plain": [
       "0.8125466766243465"
      ]
     },
     "execution_count": 105,
     "metadata": {
      "tags": []
     },
     "output_type": "execute_result"
    }
   ],
   "source": [
    "# Precision\n",
    "tp/(tp+fp)"
   ]
  },
  {
   "cell_type": "code",
   "execution_count": 106,
   "metadata": {
    "colab": {
     "base_uri": "https://localhost:8080/",
     "height": 76
    },
    "colab_type": "code",
    "executionInfo": {
     "elapsed": 755,
     "status": "ok",
     "timestamp": 1586854829039,
     "user": {
      "displayName": "李政軒",
      "photoUrl": "",
      "userId": "08086314053421830905"
     },
     "user_tz": -480
    },
    "id": "PdiAape-k1-K",
    "outputId": "e7387cd1-34c4-470a-ebea-bddf32c7999b"
   },
   "outputs": [
    {
     "data": {
      "text/plain": [
       "0.8180451127819549"
      ]
     },
     "execution_count": 106,
     "metadata": {
      "tags": []
     },
     "output_type": "execute_result"
    }
   ],
   "source": [
    "# Recall\n",
    "tp/(tp+fn)"
   ]
  },
  {
   "cell_type": "code",
   "execution_count": 107,
   "metadata": {
    "colab": {
     "base_uri": "https://localhost:8080/",
     "height": 332
    },
    "colab_type": "code",
    "executionInfo": {
     "elapsed": 746,
     "status": "ok",
     "timestamp": 1586854833304,
     "user": {
      "displayName": "李政軒",
      "photoUrl": "",
      "userId": "08086314053421830905"
     },
     "user_tz": -480
    },
    "id": "EHG8Pa04k6gU",
    "outputId": "0911c30b-2a3c-41b0-80d4-f1a897e909bf"
   },
   "outputs": [
    {
     "data": {
      "text/plain": [
       "<matplotlib.legend.Legend at 0x7f2c7e05d358>"
      ]
     },
     "execution_count": 107,
     "metadata": {
      "tags": []
     },
     "output_type": "execute_result"
    },
    {
     "data": {
      "image/png": "[encoded data removed]",
      "text/plain": [
       "<Figure size 432x288 with 1 Axes>"
      ]
     },
     "metadata": {
      "needs_background": "light",
      "tags": []
     },
     "output_type": "display_data"
    }
   ],
   "source": [
    "plt.plot(history.history['accuracy'])\n",
    "plt.plot(history.history['val_accuracy'])\n",
    "plt.title('model accuracy')\n",
    "plt.ylabel('accuracy')\n",
    "plt.xlabel('epochs')\n",
    "plt.legend(['train', 'val'], loc='upper left')"
   ]
  },
  {
   "cell_type": "code",
   "execution_count": 108,
   "metadata": {
    "colab": {
     "base_uri": "https://localhost:8080/",
     "height": 332
    },
    "colab_type": "code",
    "executionInfo": {
     "elapsed": 913,
     "status": "ok",
     "timestamp": 1586854839495,
     "user": {
      "displayName": "李政軒",
      "photoUrl": "",
      "userId": "08086314053421830905"
     },
     "user_tz": -480
    },
    "id": "XT6Lxk3-lg_V",
    "outputId": "672552c2-2170-4475-a4dd-71dae7e75a08"
   },
   "outputs": [
    {
     "data": {
      "text/plain": [
       "<matplotlib.legend.Legend at 0x7f2c7de8a710>"
      ]
     },
     "execution_count": 108,
     "metadata": {
      "tags": []
     },
     "output_type": "execute_result"
    },
    {
     "data": {
      "image/png": "[encoded data removed]",
      "text/plain": [
       "<Figure size 432x288 with 1 Axes>"
      ]
     },
     "metadata": {
      "needs_background": "light",
      "tags": []
     },
     "output_type": "display_data"
    }
   ],
   "source": [
    "plt.title('model loss')\n",
    "plt.plot(history.history['loss'])\n",
    "plt.plot(history.history['val_loss'])\n",
    "plt.ylabel('loss')\n",
    "plt.xlabel('epochs')\n",
    "plt.legend(['train', 'validation'], loc='upper left')\n"
   ]
  },
  {
   "cell_type": "code",
   "execution_count": 46,
   "metadata": {
    "colab": {
     "base_uri": "https://localhost:8080/",
     "height": 96
    },
    "colab_type": "code",
    "executionInfo": {
     "elapsed": 38587,
     "status": "ok",
     "timestamp": 1586852013499,
     "user": {
      "displayName": "李政軒",
      "photoUrl": "",
      "userId": "08086314053421830905"
     },
     "user_tz": -480
    },
    "id": "SFH_80m5l5ZB",
    "outputId": "89685ea9-5a69-4ece-b1b6-d84a4127892b"
   },
   "outputs": [
    {
     "name": "stdout",
     "output_type": "stream",
     "text": [
      "84/84 [==============================] - 0s 2ms/step - loss: 0.4164 - accuracy: 0.8168\n"
     ]
    }
   ],
   "source": [
    "score = model.evaluate(x_test_reshape,y_test_onehot)"
   ]
  },
  {
   "cell_type": "code",
   "execution_count": 47,
   "metadata": {
    "colab": {
     "base_uri": "https://localhost:8080/",
     "height": 180
    },
    "colab_type": "code",
    "executionInfo": {
     "elapsed": 38569,
     "status": "ok",
     "timestamp": 1586852013500,
     "user": {
      "displayName": "李政軒",
      "photoUrl": "",
      "userId": "08086314053421830905"
     },
     "user_tz": -480
    },
    "id": "uOmP_mxjl9g5",
    "outputId": "d431f903-71ab-41df-fbac-f9307e6015d6"
   },
   "outputs": [
    {
     "name": "stdout",
     "output_type": "stream",
     "text": [
      "(2664, 14)\n",
      "(10656, 14, 1)\n",
      "(2664, 14, 1)\n",
      "(2664,)\n",
      "(10656, 2)\n",
      "測試資料的 loss 0.41640639305114746\n",
      "測試資料的正確率 0.8168168067932129\n"
     ]
    }
   ],
   "source": [
    "print(x_test.shape)\n",
    "print(x_train_reshape.shape)\n",
    "print(x_test_reshape.shape)\n",
    "print(y_test.shape)\n",
    "print(y_train_onehot.shape)\n",
    "print('測試資料的 loss', score[0])\n",
    "print('測試資料的正確率', score[1])"
   ]
  },
  {
   "cell_type": "code",
   "execution_count": 48,
   "metadata": {
    "colab": {
     "base_uri": "https://localhost:8080/",
     "height": 199
    },
    "colab_type": "code",
    "executionInfo": {
     "elapsed": 38551,
     "status": "ok",
     "timestamp": 1586852013500,
     "user": {
      "displayName": "李政軒",
      "photoUrl": "",
      "userId": "08086314053421830905"
     },
     "user_tz": -480
    },
    "id": "q2NHeQ9WmIS1",
    "outputId": "bacbbe6a-d1de-430e-c6d2-4dd829fd05a3"
   },
   "outputs": [
    {
     "name": "stdout",
     "output_type": "stream",
     "text": [
      "(2664, 2)\n",
      "[[0.769103   0.24364354]\n",
      " [0.15508884 0.86989313]\n",
      " [0.5336528  0.455148  ]\n",
      " ...\n",
      " [0.5313022  0.45589933]\n",
      " [0.59809554 0.39874622]\n",
      " [0.3021877  0.69754386]]\n"
     ]
    }
   ],
   "source": [
    "y_predict = model.predict(x_test_reshape)\n",
    "print(y_predict.shape)\n",
    "print(y_predict)"
   ]
  },
  {
   "cell_type": "code",
   "execution_count": 49,
   "metadata": {
    "colab": {
     "base_uri": "https://localhost:8080/",
     "height": 199
    },
    "colab_type": "code",
    "executionInfo": {
     "elapsed": 38536,
     "status": "ok",
     "timestamp": 1586852013501,
     "user": {
      "displayName": "李政軒",
      "photoUrl": "",
      "userId": "08086314053421830905"
     },
     "user_tz": -480
    },
    "id": "2cEtKOp1nsaR",
    "outputId": "086f0b70-4d45-4e17-a990-932611ad2d58"
   },
   "outputs": [
    {
     "name": "stdout",
     "output_type": "stream",
     "text": [
      "[[0 0 0 ... 1 1 0]\n",
      " [0 1 0 ... 1 1 1]\n",
      " [0 1 0 ... 1 1 1]\n",
      " ...\n",
      " [0 1 0 ... 1 1 1]\n",
      " [0 1 1 ... 1 1 1]\n",
      " [0 1 1 ... 1 1 1]]\n",
      "(7, 1332)\n"
     ]
    }
   ],
   "source": [
    "pred_inverse=[]\n",
    "n=8\n",
    "\n",
    "for thershold in range(1,n):\n",
    "  for i in range (0,1332):\n",
    "    u=0.1*thershold\n",
    "\n",
    "    if y_predict[i,0]>u :\n",
    "      pred_inverse.append(0)\n",
    "    else :\n",
    "      pred_inverse.append(1)\n",
    "\n",
    "pred_inverse=np.reshape(pred_inverse,(n-1,1332))\n",
    "#大矩陣的樣子\n",
    "print(pred_inverse)\n",
    "print(np.array(pred_inverse).shape)"
   ]
  },
  {
   "cell_type": "code",
   "execution_count": 0,
   "metadata": {
    "colab": {},
    "colab_type": "code",
    "id": "p0FpqAHAwDqJ"
   },
   "outputs": [],
   "source": [
    "model_LSTM_json = model.to_json()\n",
    "open('NCKU_Hypotension_LSTM.json', 'w').write(model_LSTM_json)\n",
    "model.save_weights('NCKU_Hypotension_LSTM.h5')"
   ]
  },
  {
   "cell_type": "code",
   "execution_count": 0,
   "metadata": {
    "colab": {},
    "colab_type": "code",
    "id": "VVjGHYj2_Hau"
   },
   "outputs": [],
   "source": [
    "model.load_weights('NCKU_Hypotension_LSTM.h5')"
   ]
  },
  {
   "cell_type": "code",
   "execution_count": 127,
   "metadata": {
    "colab": {
     "base_uri": "https://localhost:8080/"
    },
    "colab_type": "code",
    "executionInfo": {
     "elapsed": 791,
     "status": "ok",
     "timestamp": 1586855982061,
     "user": {
      "displayName": "李政軒",
      "photoUrl": "",
      "userId": "08086314053421830905"
     },
     "user_tz": -480
    },
    "id": "AfBM2gcHxP4O",
    "outputId": "8f6e0350-dd4c-45eb-ada1-a9fc6e2098b5"
   },
   "outputs": [
    {
     "name": "stdout",
     "output_type": "stream",
     "text": [
      "Model: \"sequential_19\"\n",
      "_________________________________________________________________\n",
      "Layer (type)                 Output Shape              Param #   \n",
      "=================================================================\n",
      "lstm_23 (LSTM)               (None, 200)               161600    \n",
      "_________________________________________________________________\n",
      "dense_44 (Dense)             (None, 2)                 402       \n",
      "_________________________________________________________________\n",
      "activation_18 (Activation)   (None, 2)                 0         \n",
      "_________________________________________________________________\n",
      "dense_48 (Dense)             (None, 100)               300       \n",
      "_________________________________________________________________\n",
      "activation_22 (Activation)   (None, 100)               0         \n",
      "_________________________________________________________________\n",
      "dense_49 (Dense)             (None, 2)                 202       \n",
      "_________________________________________________________________\n",
      "activation_23 (Activation)   (None, 2)                 0         \n",
      "=================================================================\n",
      "Total params: 162,504\n",
      "Trainable params: 502\n",
      "Non-trainable params: 162,002\n",
      "_________________________________________________________________\n"
     ]
    }
   ],
   "source": [
    "output_layer = [Dense(100),\n",
    "                layers.Activation('relu'),\n",
    "                Dense(num_classes),\n",
    "                layers.Activation('softmax')\n",
    "                ]\n",
    "\n",
    "model_new = Sequential(LSTM_layer + output_layer)\n",
    "model_new.summary()\n",
    "\n"
   ]
  },
  {
   "cell_type": "code",
   "execution_count": 0,
   "metadata": {
    "colab": {},
    "colab_type": "code",
    "id": "aozXKP5t3GUp"
   },
   "outputs": [],
   "source": [
    "for layer in LSTM_layer:\n",
    "    layer.trainable = False"
   ]
  },
  {
   "cell_type": "code",
   "execution_count": 122,
   "metadata": {
    "colab": {
     "base_uri": "https://localhost:8080/",
     "height": 444
    },
    "colab_type": "code",
    "executionInfo": {
     "elapsed": 721,
     "status": "ok",
     "timestamp": 1586855660824,
     "user": {
      "displayName": "李政軒",
      "photoUrl": "",
      "userId": "08086314053421830905"
     },
     "user_tz": -480
    },
    "id": "tqcQ2vi53NeO",
    "outputId": "d5d1ef63-e4b3-4e21-d416-d66bff2ee8bc"
   },
   "outputs": [
    {
     "name": "stdout",
     "output_type": "stream",
     "text": [
      "Model: \"sequential_18\"\n",
      "_________________________________________________________________\n",
      "Layer (type)                 Output Shape              Param #   \n",
      "=================================================================\n",
      "lstm_23 (LSTM)               (None, 200)               161600    \n",
      "_________________________________________________________________\n",
      "dense_44 (Dense)             (None, 2)                 402       \n",
      "_________________________________________________________________\n",
      "activation_18 (Activation)   (None, 2)                 0         \n",
      "_________________________________________________________________\n",
      "dense_46 (Dense)             (None, 100)               300       \n",
      "_________________________________________________________________\n",
      "activation_20 (Activation)   (None, 100)               0         \n",
      "_________________________________________________________________\n",
      "dense_47 (Dense)             (None, 2)                 202       \n",
      "_________________________________________________________________\n",
      "activation_21 (Activation)   (None, 2)                 0         \n",
      "=================================================================\n",
      "Total params: 162,504\n",
      "Trainable params: 502\n",
      "Non-trainable params: 162,002\n",
      "_________________________________________________________________\n"
     ]
    }
   ],
   "source": [
    "model_new.summary()"
   ]
  },
  {
   "cell_type": "code",
   "execution_count": 0,
   "metadata": {
    "colab": {},
    "colab_type": "code",
    "id": "J3XqiBEh3YmO"
   },
   "outputs": [],
   "source": [
    "model_new.compile(loss = 'binary_crossentropy',\n",
    "              optimizer = 'SGD',\n",
    "              metrics = ['accuracy'])\n",
    "\n"
   ]
  },
  {
   "cell_type": "code",
   "execution_count": 125,
   "metadata": {
    "colab": {
     "base_uri": "https://localhost:8080/",
     "height": 812
    },
    "colab_type": "code",
    "executionInfo": {
     "elapsed": 12390,
     "status": "ok",
     "timestamp": 1586855725223,
     "user": {
      "displayName": "李政軒",
      "photoUrl": "",
      "userId": "08086314053421830905"
     },
     "user_tz": -480
    },
    "id": "YrBG7L6237Wf",
    "outputId": "2585efa9-431a-4298-d92d-f8eeb0c5774b"
   },
   "outputs": [
    {
     "name": "stdout",
     "output_type": "stream",
     "text": [
      "Epoch 1/10\n",
      "300/300 [==============================] - 1s 4ms/step - loss: 0.3841 - accuracy: 0.8301 - val_loss: 0.3763 - val_accuracy: 0.8452\n",
      "Epoch 2/10\n",
      "300/300 [==============================] - 1s 4ms/step - loss: 0.3799 - accuracy: 0.8337 - val_loss: 0.3866 - val_accuracy: 0.8490\n",
      "Epoch 3/10\n",
      "300/300 [==============================] - 1s 4ms/step - loss: 0.3798 - accuracy: 0.8344 - val_loss: 0.3701 - val_accuracy: 0.8537\n",
      "Epoch 4/10\n",
      "300/300 [==============================] - 1s 4ms/step - loss: 0.3744 - accuracy: 0.8338 - val_loss: 0.3931 - val_accuracy: 0.8386\n",
      "Epoch 5/10\n",
      "300/300 [==============================] - 1s 4ms/step - loss: 0.3692 - accuracy: 0.8384 - val_loss: 0.3916 - val_accuracy: 0.8415\n",
      "Epoch 6/10\n",
      "300/300 [==============================] - 1s 4ms/step - loss: 0.3665 - accuracy: 0.8409 - val_loss: 0.3927 - val_accuracy: 0.8386\n",
      "Epoch 7/10\n",
      "300/300 [==============================] - 1s 4ms/step - loss: 0.3614 - accuracy: 0.8404 - val_loss: 0.3795 - val_accuracy: 0.8471\n",
      "Epoch 8/10\n",
      "300/300 [==============================] - 1s 4ms/step - loss: 0.3567 - accuracy: 0.8420 - val_loss: 0.3886 - val_accuracy: 0.8415\n",
      "Epoch 9/10\n",
      "300/300 [==============================] - 1s 4ms/step - loss: 0.3532 - accuracy: 0.8471 - val_loss: 0.3930 - val_accuracy: 0.8368\n",
      "Epoch 10/10\n",
      "300/300 [==============================] - 1s 4ms/step - loss: 0.3499 - accuracy: 0.8432 - val_loss: 0.3831 - val_accuracy: 0.8490\n"
     ]
    }
   ],
   "source": [
    "history = model.fit(x_train_reshape, y_train_onehot,\n",
    "                    epochs = 10,\n",
    "                    batch_size = batch_size,\n",
    "                    validation_split = 0.1,\n",
    "                    )"
   ]
  },
  {
   "cell_type": "markdown",
   "metadata": {
    "colab_type": "text",
    "id": "850DDt1rtsmY"
   },
   "source": [
    "## 還要修正"
   ]
  },
  {
   "cell_type": "code",
   "execution_count": 0,
   "metadata": {
    "colab": {},
    "colab_type": "code",
    "id": "MwDDUQK7oG13"
   },
   "outputs": [],
   "source": []
  },
  {
   "cell_type": "code",
   "execution_count": 0,
   "metadata": {
    "colab": {},
    "colab_type": "code",
    "id": "XKSOrHISpB0v"
   },
   "outputs": [],
   "source": []
  },
  {
   "cell_type": "code",
   "execution_count": 0,
   "metadata": {
    "colab": {},
    "colab_type": "code",
    "id": "RrjUsnCBpDQi"
   },
   "outputs": [],
   "source": []
  }
 ],
 "metadata": {
  "accelerator": "GPU",
  "colab": {
   "authorship_tag": "ABX9TyPG6zeMe0HP8DAllERWSwvW",
   "collapsed_sections": [],
   "name": "LSTM_practice.ipynb",
   "provenance": []
  },
  "kernelspec": {
   "display_name": "Python 3",
   "language": "python",
   "name": "python3"
  },
  "language_info": {
   "codemirror_mode": {
    "name": "ipython",
    "version": 3
   },
   "file_extension": ".py",
   "mimetype": "text/x-python",
   "name": "python",
   "nbconvert_exporter": "python",
   "pygments_lexer": "ipython3",
   "version": "3.7.4"
  }
 },
 "nbformat": 4,
 "nbformat_minor": 1
}
